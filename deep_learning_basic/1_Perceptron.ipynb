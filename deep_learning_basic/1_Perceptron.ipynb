{
 "cells": [
  {
   "cell_type": "markdown",
   "metadata": {},
   "source": [
    "# Deep Learning\n",
    "## 1️⃣ Perceptron"
   ]
  },
  {
   "cell_type": "markdown",
   "metadata": {},
   "source": [
    "### What is Deep Learning?\n",
    "\n",
    "**Deep learning** is one of several methodologies of machine learning, which trains model  a human's way of thinking based on **artificial neural network**.\n"
   ]
  },
  {
   "cell_type": "markdown",
   "metadata": {},
   "source": [
    "### Perceptron\n"
   ]
  },
  {
   "cell_type": "markdown",
   "metadata": {},
   "source": [
    "<img src=\"./perceptron.png\" width=\"500\">\n",
    "\n",
    "Perceptron is an early form of artificial neural network and is an algorithm that emits one result from multiple inputs.\n",
    "\n",
    "Perceptron gets several inputs($x_1, x_2, ...$) with weights($w_1, w_2, ...$), and bias($w_0$), then calculates summation of the product of inputs and weights and bias($w_0 + w_1x_1 + w_2x_2 + ...$), then transform the summation into output using activation function.\n",
    "$$y = activation(w_0 + w_1x_1 + w_2x_2 + ...)$$"
   ]
  },
  {
   "cell_type": "markdown",
   "metadata": {},
   "source": [
    "#### Activation function for Perceptron\n",
    "\n",
    "$$activation(x) = \\left\\{ \\begin{array}{ll} 1 \\quad x \\geq 0 \\\\ 0 \\quad x<0 \\end{array} \\right. $$"
   ]
  },
  {
   "cell_type": "markdown",
   "metadata": {},
   "source": [
    "### Multi-Layer Perceptron\n",
    "\n",
    "<img src=\"./MLP.png\" width=\"300\">\n"
   ]
  },
  {
   "cell_type": "markdown",
   "metadata": {},
   "source": [
    "**Multi-Layer Perceptron** refers to networks composed of multiple layers of perceptrons.   \n",
    "**Hidden Layer** refers to every layers between input layer and output layer.\n",
    "\n",
    "It is expressed that the more hidden layers there are, the deeper the neural network becomes. As the neural network becomes deeper, the model can classify data better, but the model gets to require much more calculation of weights."
   ]
  },
  {
   "cell_type": "code",
   "execution_count": null,
   "metadata": {},
   "outputs": [],
   "source": []
  }
 ],
 "metadata": {
  "kernelspec": {
   "display_name": "Python 3",
   "language": "python",
   "name": "python3"
  },
  "language_info": {
   "codemirror_mode": {
    "name": "ipython",
    "version": 3
   },
   "file_extension": ".py",
   "mimetype": "text/x-python",
   "name": "python",
   "nbconvert_exporter": "python",
   "pygments_lexer": "ipython3",
   "version": "3.7.4"
  }
 },
 "nbformat": 4,
 "nbformat_minor": 4
}
