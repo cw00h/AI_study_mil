{
 "cells": [
  {
   "cell_type": "markdown",
   "metadata": {},
   "source": [
    "# Machine Learning"
   ]
  },
  {
   "cell_type": "markdown",
   "metadata": {},
   "source": [
    "## 6️⃣ Polynomial Regression"
   ]
  },
  {
   "cell_type": "markdown",
   "metadata": {},
   "source": [
    "Regression for data of a distribution that is difficult to express in a linear equation of a first-order function.\n",
    "\n",
    "$$Y \\approx \\beta_0 + \\beta_1X + \\beta_2X^2 + ... + \\beta_iX^i$$\n",
    "\n",
    "**Polynomial regression** has the same principle as **multiple linear regression**: find the optimal $\\beta$ corresponding to each individual input value $X$."
   ]
  },
  {
   "cell_type": "code",
   "execution_count": 2,
   "metadata": {},
   "outputs": [
    {
     "name": "stdout",
     "output_type": "stream",
     "text": [
      "변환 이후 X 데이터\n",
      " [[1.         2.64644051 7.00364738]\n",
      " [1.         3.1455681  9.89459867]\n",
      " [1.         2.80829013 7.88649344]]\n"
     ]
    },
    {
     "data": {
      "image/png": "[encoded data removed]",
      "text/plain": [
       "<Figure size 432x288 with 1 Axes>"
      ]
     },
     "metadata": {
      "needs_background": "light"
     },
     "output_type": "display_data"
    }
   ],
   "source": [
    "import numpy as np\n",
    "import matplotlib.pyplot as plt\n",
    "from sklearn.linear_model import LinearRegression\n",
    "\n",
    "# import module for transfoming input of polynomial regression \n",
    "from sklearn.preprocessing import PolynomialFeatures\n",
    "\n",
    "def load_data():\n",
    "    \n",
    "    np.random.seed(0)\n",
    "    \n",
    "    X = 3*np.random.rand(50, 1) + 1\n",
    "    y = X**2 + X + 2 +5*np.random.rand(50,1)\n",
    "    \n",
    "    return X, y\n",
    "    \n",
    "\"\"\"\n",
    "Implement function that squares each variable value, and add it to data using PolynomialFeature object.\n",
    "1. Create Polynomial object using PolynomialFeatures.\n",
    "   Set degree to 2, and include_bias to True.\n",
    "   If you set include_bias, this object includes bias variable of 0 degree, which is identical to beta_0\n",
    "   \n",
    "2. fit & transform X to this Polynomial object to create array consisting of X^0, X^1, X^2.\n",
    "\"\"\"\n",
    "def Polynomial_transform(X):\n",
    "    \n",
    "    poly_feat = PolynomialFeatures(degree=2, include_bias=True)\n",
    "    \n",
    "    poly_X = poly_feat.fit_transform(X)\n",
    "    \n",
    "    print(\"변환 이후 X 데이터\\n\",poly_X[:3])\n",
    "    \n",
    "    return poly_X\n",
    "    \n",
    "\"\"\"\n",
    "2. Initialize multi linear regression model, then operate learning according to poly_x.\n",
    "\"\"\"\n",
    "def Multi_Regression(poly_x, y):\n",
    "    \n",
    "    multilinear = LinearRegression()\n",
    "    \n",
    "    multilinear.fit(poly_x, y)\n",
    "    \n",
    "    return multilinear\n",
    "    \n",
    "    \n",
    "# Visualize graph\n",
    "def plotting_graph(x,y,predicted):\n",
    "    fig = plt.figure()\n",
    "    plt.scatter(x, y)\n",
    "    \n",
    "    plt.scatter(x, predicted,c='r')\n",
    "    plt.show()\n",
    "    \n",
    "\"\"\"\n",
    "3. Use the model after learning to make predictions about the test data.\n",
    "\"\"\"\n",
    "def main():\n",
    "    \n",
    "    X,y = load_data()\n",
    "    \n",
    "    poly_x = Polynomial_transform(X)\n",
    "    \n",
    "    linear_model = Multi_Regression(poly_x,y)\n",
    "    \n",
    "    predicted = linear_model.predict(poly_x)\n",
    "    \n",
    "    plotting_graph(X,y,predicted)\n",
    "    \n",
    "    return predicted\n",
    "    \n",
    "if __name__==\"__main__\":\n",
    "    main()"
   ]
  },
  {
   "cell_type": "markdown",
   "metadata": {},
   "source": [
    "### Characteristics of Polynomial Regression\n",
    "- Use it when it's hard to express data relationships linearly.\n",
    "- **Overfitting** occurs when extremely high-order models are implemented.\n"
   ]
  },
  {
   "cell_type": "markdown",
   "metadata": {},
   "source": []
  }
 ],
 "metadata": {
  "kernelspec": {
   "display_name": "Python 3",
   "language": "python",
   "name": "python3"
  },
  "language_info": {
   "codemirror_mode": {
    "name": "ipython",
    "version": 3
   },
   "file_extension": ".py",
   "mimetype": "text/x-python",
   "name": "python",
   "nbconvert_exporter": "python",
   "pygments_lexer": "ipython3",
   "version": "3.7.4"
  }
 },
 "nbformat": 4,
 "nbformat_minor": 4
}
