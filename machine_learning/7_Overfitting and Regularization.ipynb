{
 "cells": [
  {
   "cell_type": "markdown",
   "metadata": {},
   "source": [
    "# Machine Learning"
   ]
  },
  {
   "cell_type": "markdown",
   "metadata": {},
   "source": [
    "## 7️⃣ Overfitting and Regularization"
   ]
  },
  {
   "cell_type": "markdown",
   "metadata": {},
   "source": [
    "### Overfitting\n",
    "\n",
    "Overfitting is the production of an analysis that corresponds **too closely or exactly** to a particular set of data, and may therefore **fail to fit additional data** or **predict future observations reliably**."
   ]
  },
  {
   "cell_type": "markdown",
   "metadata": {},
   "source": [
    "### Cross Validation\n",
    "\n",
    "**Cross validation** is one of the ways to prevent overfitting.\n",
    "Cross validation is a method of evaluating model if the model has learned well by dividing data into **Train data**, **Test data**, and **Validation data**.\n",
    "\n",
    "#### K-fold cross validation\n",
    "\n",
    "K-fold cross validation divides the data into k equal parts and trains model k times with different set of train data.\n",
    "\n",
    "<img src=\"./k-fold.png\" width=\"300\"/>\n",
    "\n",
    "1. Set K and divide the dataset into K pieces.\n",
    "2. One of K data is used as validation data, and the other are used as train data.\n",
    "3. The average performance of K models becomes the performance of the model."
   ]
  },
  {
   "cell_type": "code",
   "execution_count": 1,
   "metadata": {},
   "outputs": [
    {
     "name": "stdout",
     "output_type": "stream",
     "text": [
      "Iter : 0 Cross-Validation Accuracy : 0.622527754679733, Size of Train Data : 323, Size of Validation Data : 81\n",
      "Iter : 1 Cross-Validation Accuracy : 0.7158099616179292, Size of Train Data : 323, Size of Validation Data : 81\n",
      "Iter : 2 Cross-Validation Accuracy : 0.7986314390280332, Size of Train Data : 323, Size of Validation Data : 81\n",
      "Iter : 3 Cross-Validation Accuracy : 0.6952286567450774, Size of Train Data : 323, Size of Validation Data : 81\n",
      "Iter : 4 Cross-Validation Accuracy : 0.7006957536853015, Size of Train Data : 324, Size of Validation Data : 80\n",
      "\n",
      "> Mean of scores :  0.7065787131512149\n"
     ]
    }
   ],
   "source": [
    "import numpy as np\n",
    "\n",
    "from sklearn.model_selection import train_test_split\n",
    "\n",
    "from sklearn.datasets import load_boston\n",
    "from sklearn.linear_model import LinearRegression\n",
    "\n",
    "# import KFold module\n",
    "from sklearn.model_selection import KFold\n",
    "\n",
    "\"\"\"\n",
    "1. Load data from sklearn & Split data\n",
    "\"\"\"\n",
    "def load_data():\n",
    "    \n",
    "    X, y = load_boston(return_X_y = True)\n",
    "    \n",
    "    train_X, test_X, train_y, test_y = train_test_split(X, y, test_size=0.2, random_state = 100)\n",
    "    \n",
    "    return train_X, test_X, train_y, test_y\n",
    "    \n",
    "\n",
    "\"\"\"\n",
    "2. Implement function that train model and predict using KFold cross validation.\n",
    "   \n",
    "   Step01. Define Kfold object to divide data into 5.\n",
    "           \n",
    "   Step02. Split divided data into Train data and Validation data using kFold object and .split().\n",
    "           train_idx and val_idx is an index of splitted data.\n",
    "            \n",
    "   Step03. Train model using splitted Train data, and test the model using validation data.\n",
    "           Save each model's score at score.\n",
    "\"\"\"\n",
    "def kfold_regression(train_X, train_y):\n",
    "    \n",
    "    n_iter = 0\n",
    "    \n",
    "    # Create an empty array to save each model's score\n",
    "    model_scores = []\n",
    "    \n",
    "    kfold = KFold(n_splits=5)\n",
    "    \n",
    "    for train_idx, val_idx in kfold.split(train_X):\n",
    "        \n",
    "        X_train, X_val =  train_X[train_idx], train_X[val_idx]\n",
    "        y_train, y_val =  train_y[train_idx], train_y[val_idx]\n",
    "        \n",
    "        # Initialize model for each fold to get rid of the influence between each fold\n",
    "        model = LinearRegression()\n",
    "        \n",
    "        model.fit(X_train, y_train)\n",
    "        \n",
    "        # Save score of each fold\n",
    "        score = model.score(X_val, y_val)\n",
    "        \n",
    "        # Save size of data for train and validation\n",
    "        train_size = X_train.shape[0]\n",
    "        val_size = X_val.shape[0]\n",
    "    \n",
    "        print(\"Iter : {0} Cross-Validation Accuracy : {1}, Size of Train Data : {2}, Size of Validation Data : {3}\"\n",
    "              .format(n_iter, score, train_size, val_size))\n",
    "    \n",
    "        n_iter += 1\n",
    "        \n",
    "        model_scores.append(score)\n",
    "        \n",
    "    return kfold, model, model_scores\n",
    "        \n",
    "        \n",
    "def main():\n",
    "    \n",
    "    # Load data for test and training\n",
    "    train_X, test_X, train_y, test_y = load_data()\n",
    "    \n",
    "    kfold, model, model_scores = kfold_regression(train_X, train_y)\n",
    "    \n",
    "    print(\"\\n> Mean of scores : \", np.mean(model_scores))\n",
    "    \n",
    "\n",
    "    \n",
    "if __name__ == \"__main__\":\n",
    "    main()\n"
   ]
  },
  {
   "cell_type": "markdown",
   "metadata": {},
   "source": [
    "#### Regularization\n",
    "\n",
    "A method to implement a generalized model by reducing the complexity of the model.\n",
    "\n",
    "- **L1 Regularization (Lasso)**\n",
    "\n",
    "Make $\\beta_i$ corresponding to unnecessary input exactly 0.\n",
    "\n",
    "- **L2 Regularization (Ridge)**\n",
    "\n",
    "Make $\\beta_i$ close to zero for outliers with very large or small values.\n",
    "\n"
   ]
  }
 ],
 "metadata": {
  "kernelspec": {
   "display_name": "Python 3",
   "language": "python",
   "name": "python3"
  },
  "language_info": {
   "codemirror_mode": {
    "name": "ipython",
    "version": 3
   },
   "file_extension": ".py",
   "mimetype": "text/x-python",
   "name": "python",
   "nbconvert_exporter": "python",
   "pygments_lexer": "ipython3",
   "version": "3.7.4"
  }
 },
 "nbformat": 4,
 "nbformat_minor": 4
}
