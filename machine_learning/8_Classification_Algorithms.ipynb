{
 "cells": [
  {
   "cell_type": "markdown",
   "metadata": {},
   "source": [
    "# Machine Learning"
   ]
  },
  {
   "cell_type": "markdown",
   "metadata": {},
   "source": [
    "## 8️⃣Classification Algorithms"
   ]
  },
  {
   "cell_type": "markdown",
   "metadata": {},
   "source": [
    "### Logistic Regression\n",
    "\n",
    "**General regression algorithm** can't be used for **classification problems** because linear regression can have values from negative inifinity to infinity.\n",
    "\n",
    "The regression in which the **range of output values is modified** to apply linear regression to the classification problem is called **Logistic Regression**.\n",
    "\n",
    "#### Sigmoid (logistic) function\n",
    "\n",
    "<img src=\"./sigmoid.png\" width = \"300\">\n",
    "\n",
    "$$g(x) = \\frac{1}{1+e^{-x}} = \\frac{e^x}{1+e^x}$$\n",
    "\n",
    "To modify output value to be between 0 and 1, Logistic Regression use **Sigmoid function**.\n",
    "\n",
    "**Decision Boundary** refers to a reference value for classifying data. Data is generally classified based on the output value of 0.5."
   ]
  },
  {
   "cell_type": "code",
   "execution_count": 1,
   "metadata": {},
   "outputs": [],
   "source": [
    "from sklearn import linear_model\n",
    "import numpy as np\n",
    "import matplotlib.pyplot as plt\n",
    "from scipy.special import expit\n",
    "\n",
    "# Function for plot\n",
    "def plot_logistic_regression(model, X_data, y_data):\n",
    "    # and plot the result\n",
    "    plt.figure(1, figsize=(4, 3))\n",
    "    plt.clf()\n",
    "    plt.scatter(X_data.ravel(), y_data, color='black', zorder=20)\n",
    "    X_test = np.linspace(-5, 10, 300)\n",
    "\n",
    "    loss = expit(X_test * model.coef_ + model.intercept_).ravel()\n",
    "    plt.plot(X_test, loss, color='red', linewidth=3)\n",
    "\n",
    "    ols = linear_model.LinearRegression()\n",
    "    ols.fit(X_data, y_data)\n",
    "    plt.plot(X_test, ols.coef_ * X_test + ols.intercept_, linewidth=1)\n",
    "    plt.axhline(.5, color='.5')\n",
    "\n",
    "    plt.ylabel('y')\n",
    "    plt.xlabel('X')\n",
    "    plt.xticks(range(-5, 10))\n",
    "    plt.yticks([0, 0.5, 1])\n",
    "    plt.ylim(-.25, 1.25)\n",
    "    plt.xlim(-4, 10)\n",
    "    plt.legend(('Logistic Regression Model', 'Linear Regression Model'),\n",
    "               loc=\"lower right\", fontsize='small')\n",
    "    plt.tight_layout()\n",
    "    plt.show()"
   ]
  },
  {
   "cell_type": "code",
   "execution_count": 4,
   "metadata": {},
   "outputs": [
    {
     "name": "stdout",
     "output_type": "stream",
     "text": [
      "Result of prediction : [1. 0. 0. 0. 1. 0. 1. 0. 0. 1.]\n"
     ]
    },
    {
     "data": {
      "image/png": "[encoded data removed]",
      "text/plain": [
       "<Figure size 288x216 with 1 Axes>"
      ]
     },
     "metadata": {
      "needs_background": "light"
     },
     "output_type": "display_data"
    }
   ],
   "source": [
    "import warnings\n",
    "warnings.filterwarnings(action='ignore')\n",
    "\n",
    "import numpy as np\n",
    "from sklearn.linear_model import LogisticRegression\n",
    "\n",
    "from sklearn.model_selection import train_test_split\n",
    "\n",
    "def load_data():\n",
    "    \n",
    "    np.random.seed(0)\n",
    "    \n",
    "    X = np.random.normal(size = 100)\n",
    "    y = (X > 0).astype(np.float)\n",
    "    X[X > 0] *= 5\n",
    "    X += .7 * np.random.normal(size = 100)\n",
    "    X = X[:, np.newaxis]\n",
    "    \n",
    "    train_X, test_X, train_y, test_y = train_test_split(X, y, test_size = 0.2, random_state = 100)\n",
    "    \n",
    "    return train_X, test_X, train_y, test_y\n",
    "\"\"\"\n",
    "1. Create Logistic Regression model and train the model. \n",
    "   \n",
    "   Step01. Load data using load_data()\n",
    "   \n",
    "   Step02. Initialize Logistic Regression model\n",
    "   \n",
    "   Step03. Train the model using Train data\n",
    "   \n",
    "   Step04. Predict the value using Test data\n",
    "\"\"\"\n",
    "def main():\n",
    "    \n",
    "    train_X, test_X, train_y, test_y = load_data();\n",
    "    \n",
    "    logistic_model = LogisticRegression();\n",
    "    \n",
    "    logistic_model.fit(train_X, train_y)\n",
    "    \n",
    "    predicted = logistic_model.predict(test_X)\n",
    "    \n",
    "    print(\"Result of prediction :\", predicted[:10])\n",
    "    \n",
    "    plot_logistic_regression(logistic_model, train_X, train_y)\n",
    "    \n",
    "    return logistic_model\n",
    "\n",
    "if __name__ == \"__main__\":\n",
    "    main()\n"
   ]
  },
  {
   "cell_type": "markdown",
   "metadata": {},
   "source": [
    "### SVM(Support Vector Machine)\n",
    "\n",
    "<img src = \"./two_dimensions.png\" width = \"300\">\n",
    "\n",
    "**SVM** is used for binary classification problem where data are classified by two features. This model defines optimal **Deicision Boundary**, which is the boundary **as far away as possible from the data group**.\n",
    "\n",
    "- Support Vector & Margin\n",
    "\n",
    "<img src = \"./support_vector.png\" width=\"300\">\n",
    "\n",
    "**Support Vectors** are data points that are closest to decision boundary.   \n",
    "**Margin** is the width of decision boundary.\n",
    "\n",
    "- Hard Margin vs Soft Margin\n",
    "\n",
    "It is called **hard margin** to not allow outliers to be included in the division boundary. Hard margin can cause **overfitting** problem.   \n",
    "On the other hand, **soft margin** allows outliers to exist to some extent in the margin.\n",
    "\n"
   ]
  },
  {
   "cell_type": "code",
   "execution_count": 6,
   "metadata": {},
   "outputs": [
    {
     "name": "stdout",
     "output_type": "stream",
     "text": [
      "      Factor01   Factor2   Factor3  Factor4\n",
      "0      4.67650  -3.38950   3.48960  1.47710\n",
      "1      2.67190   3.06460   0.37158  0.58619\n",
      "2      0.80355   2.84730   4.34390  0.60170\n",
      "3      1.44790  -4.87940   8.34280 -2.10860\n",
      "4      5.24230  11.02720  -4.35300 -4.10130\n",
      "...        ...       ...       ...      ...\n",
      "1367   0.40614   1.34920  -1.45010 -0.55949\n",
      "1368  -1.38870  -4.87730   6.47740  0.34179\n",
      "1369  -3.75030 -13.45860  17.59320 -2.77710\n",
      "1370  -3.56370  -8.38270  12.39300 -1.28230\n",
      "1371  -2.54190  -0.65804   2.68420  1.19520\n",
      "\n",
      "[1372 rows x 4 columns] 0       0\n",
      "1       0\n",
      "2       0\n",
      "3       0\n",
      "4       0\n",
      "       ..\n",
      "1367    1\n",
      "1368    1\n",
      "1369    1\n",
      "1370    1\n",
      "1371    1\n",
      "Name: Class, Length: 1372, dtype: int64\n",
      "\n",
      "Confusion matrix : \n",
      " [[157   0]\n",
      " [  0 118]]\n",
      "\n",
      "Report : \n",
      "               precision    recall  f1-score   support\n",
      "\n",
      "           0       1.00      1.00      1.00       157\n",
      "           1       1.00      1.00      1.00       118\n",
      "\n",
      "    accuracy                           1.00       275\n",
      "   macro avg       1.00      1.00      1.00       275\n",
      "weighted avg       1.00      1.00      1.00       275\n",
      "\n"
     ]
    }
   ],
   "source": [
    "import pandas as pd  \n",
    "import numpy as np  \n",
    "import matplotlib.pyplot as plt  \n",
    "\n",
    "import warnings\n",
    "warnings.filterwarnings(action='ignore')\n",
    "\n",
    "from sklearn.model_selection import train_test_split  \n",
    "from sklearn.svm import SVC\n",
    "from sklearn.metrics import classification_report, confusion_matrix \n",
    "\"\"\"\n",
    "1. Load data & split data\n",
    "\"\"\"\n",
    "def load_data():\n",
    "    \n",
    "    data = pd.read_csv('./dataset.csv')\n",
    "    \n",
    "    X = data.drop(columns=['Class'])\n",
    "    y = data['Class']\n",
    "    \n",
    "    train_X, test_X, train_y, test_y = train_test_split(X, y, test_size = 0.2, random_state = 0)\n",
    "    print(X, y)\n",
    "    return train_X, test_X, train_y, test_y\n",
    "    \n",
    "\"\"\"\n",
    "2. Initialize SVM model, train it, then return predicted value. \n",
    "\"\"\"\n",
    "def SVM(train_X, test_X, train_y, test_y):\n",
    "    \n",
    "    svm = SVC()\n",
    "    \n",
    "    svm.fit(train_X, train_y)\n",
    "    \n",
    "    pred_y = svm.predict(test_X)\n",
    "    \n",
    "    return pred_y\n",
    "    \n",
    "def main():\n",
    "    \n",
    "    train_X, test_X, train_y, test_y = load_data()\n",
    "    \n",
    "    pred_y = SVM(train_X, test_X, train_y, test_y)\n",
    "    \n",
    "    # print confusion matrix and report\n",
    "    print(\"\\nConfusion matrix : \\n\",confusion_matrix(test_y,pred_y))  \n",
    "    print(\"\\nReport : \\n\",classification_report(test_y,pred_y)) \n",
    "\n",
    "if __name__ == \"__main__\":\n",
    "    main()\n"
   ]
  },
  {
   "cell_type": "markdown",
   "metadata": {},
   "source": [
    "### Naive Bayes Classification\n",
    "\n",
    "**Naive Bayes classification** is a classification algorithm using Bayes Theorem assuming that each feature is independent.\n",
    "\n",
    "**Bayes Theorem** : $P(A|B) = \\frac{P(A \\cap B)}{P(B)} = \\frac{P(B|A)P(A)}{P(B)}$\n",
    "\n",
    "**Navie Bayes classification** classifies input values by calculating the probability that the input value belongs to specific class using Bayes Theorem."
   ]
  },
  {
   "cell_type": "code",
   "execution_count": 1,
   "metadata": {},
   "outputs": [
    {
     "name": "stdout",
     "output_type": "stream",
     "text": [
      "데이터 확인해보기 :\n",
      " [[1.423e+01 1.710e+00 2.430e+00 1.560e+01 1.270e+02 2.800e+00 3.060e+00\n",
      "  2.800e-01 2.290e+00 5.640e+00 1.040e+00 3.920e+00 1.065e+03]]\n",
      "\n",
      "Model Accuracy : \n",
      "0.9166666666666666\n"
     ]
    }
   ],
   "source": [
    "from sklearn.datasets import load_wine\n",
    "\n",
    "from sklearn.model_selection import train_test_split\n",
    "from sklearn.naive_bayes import GaussianNB\n",
    "from sklearn.metrics import accuracy_score\n",
    "\n",
    "\"\"\"\n",
    "1. Load data and Split data.\n",
    "\"\"\"\n",
    "def load_data():\n",
    "    \n",
    "    X, y = load_wine(return_X_y = True)\n",
    "    \n",
    "    print(\"데이터 확인해보기 :\\n\", X[:1])\n",
    "    \n",
    "    train_X, test_X, train_y, test_y = train_test_split(X, y, test_size=0.2, random_state = 0)\n",
    "    \n",
    "    return train_X, test_X, train_y, test_y\n",
    "    \n",
    "\"\"\"\n",
    "2. Initialize Gausian Naive Bayes Model, train it, and predict test values using the model.\n",
    "\"\"\"\n",
    "def Gaussian_NB(train_X, test_X, train_y, test_y):\n",
    "    \n",
    "    model = GaussianNB()\n",
    "    \n",
    "    model.fit(train_X, train_y)\n",
    "    \n",
    "    predicted = model.predict(test_X)\n",
    "    \n",
    "    return predicted\n",
    "    \n",
    "def main():\n",
    "    \n",
    "    train_X, test_X, train_y, test_y = load_data()\n",
    "    \n",
    "    predicted = Gaussian_NB(train_X, test_X, train_y, test_y)\n",
    "    \n",
    "    ## Check model accuracy\n",
    "    print(\"\\nModel Accuracy : \")\n",
    "    print(accuracy_score(test_y, predicted))\n",
    "\n",
    "if __name__ == \"__main__\":\n",
    "    main()\n"
   ]
  },
  {
   "cell_type": "markdown",
   "metadata": {},
   "source": [
    "#### Characteristics of Naive Bayes Classification\n",
    "\n",
    "- If each features are independent, model needs less training data and performs well than models using other classification algorithm.\n",
    "- If each features are not independent, the reliability of classification decreases.\n",
    "- Model can't predict properly if the input data is not in the category of training data."
   ]
  },
  {
   "cell_type": "markdown",
   "metadata": {},
   "source": [
    "### KNN(K-Nearest Neighbor)\n",
    "\n",
    "**KNN** is a methodology for predicting new data with information from **k neighbors closest to new data**. KNN classifies data under the assumption that **data with similar features tend to belong to similar categories**.\n",
    "\n",
    "#### Characteristics of KNN\n",
    "- It's intuitive algorithm, so it's easy to understand the results.\n",
    "- Model's performance greatly depend on the selection of K.\n",
    "- Lazy model that doesn't need training."
   ]
  }
 ],
 "metadata": {
  "kernelspec": {
   "display_name": "Python 3",
   "language": "python",
   "name": "python3"
  },
  "language_info": {
   "codemirror_mode": {
    "name": "ipython",
    "version": 3
   },
   "file_extension": ".py",
   "mimetype": "text/x-python",
   "name": "python",
   "nbconvert_exporter": "python",
   "pygments_lexer": "ipython3",
   "version": "3.7.4"
  }
 },
 "nbformat": 4,
 "nbformat_minor": 4
}
