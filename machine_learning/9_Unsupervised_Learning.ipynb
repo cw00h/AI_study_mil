{
 "cells": [
  {
   "cell_type": "markdown",
   "metadata": {},
   "source": [
    "# Machine Learning\n",
    "## 9️⃣ Unsupervised Learning"
   ]
  },
  {
   "cell_type": "markdown",
   "metadata": {},
   "source": [
    "### What is Unsupervised Learning?\n",
    "\n",
    "**Unsupervised learning** is a type of machine learning in which the algorithm is **not provided with any pre-assigned labels or scores** for the training data. As a result, unsupervised learning algorithms must first **self-discover any naturally occurring patterns in that training data set**."
   ]
  },
  {
   "cell_type": "markdown",
   "metadata": {},
   "source": [
    "### Clustering\n",
    "\n",
    "<img src = \"./clustering.png\" width = 300px>\n",
    "\n",
    "**Clustering** means grouping data having similar features without any information about each data's group infomration. Clustering's purpose is to **minimalize similarity between different clusters**, and to **maximize similarity in a cluster**.\n",
    "\n",
    "- **Hard Clustering** expresses each data by wheter each object belongs to a cluster or not. (i.e. K-means clustering)   \n",
    "- For objects created by **Soft Clustering**, each object belongs to each cluster to a certain degree. (i.e. Gaussian Mixture Model Algorithm)"
   ]
  },
  {
   "cell_type": "markdown",
   "metadata": {},
   "source": [
    "### K-means Clustering\n",
    "\n",
    "**K-means Clustering** clusters input data into K clusters. K, which is the number of clusters is **hyper parameter**.\n",
    "\n",
    "1. Pick random K data to set as each cluster's center.\n",
    "2. Calculate the distance between each data and central data, then assign the data to the nearest cluster.\n",
    "3. Calculate center of each cluster's data, and set the center as the new center of the cluster.\n",
    "4. Repeate 2~3 until there is no change of center's position.\n",
    "\n",
    "#### Elbow Method\n",
    "\n",
    "To get best **hyper parameter, K**, use **Elbow Method**.\n",
    " \n",
    "<img src = \"./elbow_method.png\" width=\"300\">\n",
    "\n",
    "**Elbow method** attempts various K values and selects the part where **the cost function graph is bent**, that is, the point where increasing the number of clusters does not work much."
   ]
  },
  {
   "cell_type": "code",
   "execution_count": 3,
   "metadata": {},
   "outputs": [
    {
     "name": "stdout",
     "output_type": "stream",
     "text": [
      "target  cluster\n",
      "0       2          50\n",
      "1       0           2\n",
      "        1          48\n",
      "2       0          36\n",
      "        1          14\n",
      "Name: sepal length (cm), dtype: int64\n"
     ]
    },
    {
     "data": {
      "image/png": "[encoded data removed]",
      "text/plain": [
       "<Figure size 432x288 with 1 Axes>"
      ]
     },
     "metadata": {
      "needs_background": "light"
     },
     "output_type": "display_data"
    }
   ],
   "source": [
    "import pandas as pd\n",
    "import numpy as np\n",
    "from sklearn.cluster import KMeans\n",
    "from sklearn.datasets import load_iris\n",
    "from sklearn.decomposition import PCA\n",
    "import matplotlib.pyplot as plt\n",
    "\n",
    "# Load data\n",
    "def load_data():\n",
    "    \n",
    "    iris = load_iris()\n",
    "    \n",
    "    irisDF = pd.DataFrame(data = iris.data, columns = iris.feature_names)\n",
    "    \n",
    "    irisDF['target'] = iris.target\n",
    "\n",
    "    return irisDF\n",
    "    \n",
    "\"\"\"\n",
    "1. Step01. Create KMeans object.\n",
    "\n",
    "   Step02. Train the model using a data without 'target'\n",
    "           \n",
    "   Step03. Add the result of clustering, which is the label of center points of clusters that each data belongs to, to iris DataFrame.\n",
    "\"\"\"\n",
    "def k_means_clus(irisDF):\n",
    "    \n",
    "    kmeans = KMeans(init = 'random', n_clusters = 3, random_state = 100)\n",
    "    \n",
    "    kmeans.fit(irisDF.drop(columns=['target']))\n",
    "    \n",
    "    irisDF['cluster'] = kmeans.labels_\n",
    "    \n",
    "    # Use groupby function to check the result of clustering\n",
    "    iris_result = irisDF.groupby(['target','cluster'])['sepal length (cm)'].count()\n",
    "    print(iris_result)\n",
    "    \n",
    "    return iris_result, irisDF\n",
    "\n",
    "# Visualize the result of clustering using PCA. (PCA will be covered later in this file.)\n",
    "def Visualize(irisDF):\n",
    "    \n",
    "    pca = PCA(n_components=2)\n",
    "    pca_transformed = pca.fit_transform(irisDF)\n",
    "\n",
    "    irisDF['pca_x'] = pca_transformed[:,0]\n",
    "    irisDF['pca_y'] = pca_transformed[:,1]\n",
    "\n",
    "    # Extract indexes of values of the cluster with values of 0, 1, and 2, respectively.\n",
    "    idx_0 = irisDF[irisDF['cluster'] == 0].index\n",
    "    idx_1 = irisDF[irisDF['cluster'] == 1].index\n",
    "    idx_2 = irisDF[irisDF['cluster'] == 2].index\n",
    "    \n",
    "    fig, ax = plt.subplots()\n",
    "    \n",
    "    ax.scatter(x=irisDF.loc[idx_0, 'pca_x'], y= irisDF.loc[idx_0, 'pca_y'], marker = 'o')\n",
    "    ax.scatter(x=irisDF.loc[idx_1, 'pca_x'], y= irisDF.loc[idx_1, 'pca_y'], marker = 's')\n",
    "    ax.scatter(x=irisDF.loc[idx_2, 'pca_x'], y= irisDF.loc[idx_2, 'pca_y'], marker = '^')\n",
    "    ax.set_title('K-menas')\n",
    "    ax.set_xlabel('PCA1')\n",
    "    ax.set_ylabel('PCA2')\n",
    "    \n",
    "    ax.plot()\n",
    "\n",
    "\n",
    "def main():\n",
    "    \n",
    "    irisDF = load_data()\n",
    "    \n",
    "    iris_result, irisDF = k_means_clus(irisDF)\n",
    "    \n",
    "    Visualize(irisDF)\n",
    "    \n",
    "if __name__ == \"__main__\":\n",
    "    main()\n"
   ]
  },
  {
   "cell_type": "markdown",
   "metadata": {},
   "source": [
    "#### Characteristics of K-means Clustering\n",
    "\n",
    "- Since it sets the initial value randomly, the desired result may not come out if the distribution of data is unique.\n",
    "- Due to its light time complexity, it is suitable for large-capacity data that require a large amount of computation.\n",
    "- In practice, people operates clustering several times, and select cluster which most frequently appeared."
   ]
  },
  {
   "cell_type": "markdown",
   "metadata": {},
   "source": [
    "### Dimensionality Reduction\n",
    "\n",
    "**Dimensionality Reduction** is an algorithm that converts high-dimensional data into low-dimensional data to prevent curse of dimensionality, and to increase model's training speed."
   ]
  },
  {
   "cell_type": "markdown",
   "metadata": {},
   "source": [
    "### PCA(Principle Component Analysis)\n",
    "\n",
    "PCA is a method of finding a principle component that can best explain high-dimensional data. "
   ]
  },
  {
   "cell_type": "code",
   "execution_count": 4,
   "metadata": {
    "scrolled": true
   },
   "outputs": [
    {
     "name": "stdout",
     "output_type": "stream",
     "text": [
      "- original shape:    (178, 2)\n",
      "- transformed shape: (178, 1)\n"
     ]
    },
    {
     "data": {
      "image/png": "[encoded data removed]",
      "text/plain": [
       "<Figure size 432x288 with 1 Axes>"
      ]
     },
     "metadata": {
      "needs_background": "light"
     },
     "output_type": "display_data"
    }
   ],
   "source": [
    "import numpy as np\n",
    "from sklearn.decomposition import PCA\n",
    "from sklearn.datasets import load_wine\n",
    "import matplotlib.pyplot as plt\n",
    "\n",
    "\"\"\"\n",
    "1. Load data, and save only two designated successive columns.\n",
    "          \n",
    "\"\"\"\n",
    "def load_data():\n",
    "    \n",
    "    X, y = load_wine(return_X_y = True)\n",
    "    \n",
    "    column_start = 6\n",
    "    \n",
    "    X = X[:, column_start:column_start+2]\n",
    "    \n",
    "    return X\n",
    "\"\"\"\n",
    "2. Step01. Create PCA model, setting n_components to 1.\n",
    "           \n",
    "   Step02. Train the model.\n",
    "   \n",
    "   Step03. Get X_pca using transform().\n",
    "\"\"\"\n",
    "def pca_data(X):\n",
    "    \n",
    "    pca = PCA(n_components = 1)\n",
    "    \n",
    "    pca.fit(X)\n",
    "    \n",
    "    X_pca = pca.transform(X)\n",
    "    \n",
    "    return pca, X_pca\n",
    "\n",
    "# Visualize the result of PCA.\n",
    "def visualize(pca, X, X_pca):\n",
    "    X_new = pca.inverse_transform(X_pca)\n",
    "    \n",
    "    plt.scatter(X[:, 0], X[:, 1], alpha=0.2)\n",
    "    plt.scatter(X_new[:, 0], X_new[:, 1], alpha=0.8)\n",
    "    plt.axis('equal');\n",
    "    \n",
    "    plt.show()\n",
    "\n",
    "def main():\n",
    "    \n",
    "    X = load_data()\n",
    "    \n",
    "    pca, X_pca = pca_data(X)\n",
    "    \n",
    "    print(\"- original shape:   \", X.shape)\n",
    "    print(\"- transformed shape:\", X_pca.shape)\n",
    "    \n",
    "    visualize(pca, X, X_pca)\n",
    "    \n",
    "if __name__ == '__main__':\n",
    "    main()"
   ]
  },
  {
   "cell_type": "markdown",
   "metadata": {},
   "source": [
    "#### Characteristics of PCA\n",
    "- Since PCA implicitly expresses high-dimensional data, intuitive interpretation can be difficult.\n",
    "- Usefully used when compressing large-capacity, high-dimensional data"
   ]
  }
 ],
 "metadata": {
  "kernelspec": {
   "display_name": "Python 3",
   "language": "python",
   "name": "python3"
  },
  "language_info": {
   "codemirror_mode": {
    "name": "ipython",
    "version": 3
   },
   "file_extension": ".py",
   "mimetype": "text/x-python",
   "name": "python",
   "nbconvert_exporter": "python",
   "pygments_lexer": "ipython3",
   "version": "3.7.4"
  }
 },
 "nbformat": 4,
 "nbformat_minor": 4
}
