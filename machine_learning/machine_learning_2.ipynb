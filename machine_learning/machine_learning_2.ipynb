{
 "cells": [
  {
   "cell_type": "markdown",
   "metadata": {},
   "source": [
    "# Machine Learning"
   ]
  },
  {
   "cell_type": "markdown",
   "metadata": {},
   "source": [
    "## 2️⃣ Understanding Data Types"
   ]
  },
  {
   "cell_type": "markdown",
   "metadata": {},
   "source": [
    "### Data Types"
   ]
  },
  {
   "cell_type": "markdown",
   "metadata": {},
   "source": [
    "#### Numerical data & Categorical data\n",
    "**Numerical data** means data that can be measured numerically. (i.e. weight, height, age)   \n",
    "**Categorical data** means data that can't be measured numerically. (i.e. gender, blood type)\n",
    "\n",
    "❗ Note that whether data can be **\"expressed\"** in numbers does not serve as a criterion for distinguishing categorical data and numerical data.   \n",
    "For example, gender can be expressed in numbers by expressing men as 1 and women as 0.\n"
   ]
  },
  {
   "cell_type": "markdown",
   "metadata": {},
   "source": [
    "#### Categorical data - Ordinal data & Norminal data\n",
    "\n",
    "- **Ordinal data** means data that has meaning in the order of categories. (i.e. credit(A+, A, A-))\n",
    "\n",
    "- **Norminal data** means data that there is no meaning in the order of categories. (i.e. blood type (A, B, O, AB))\n",
    "\n",
    "#### Numerical data - Continuous data & Discrete data\n",
    "\n",
    "- **Continuous data** means numerical data that can has continuous value. (i.e. height, weight)\n",
    "\n",
    "- **Discrete data** means countable numerical data. (i.e. number of people)"
   ]
  },
  {
   "cell_type": "markdown",
   "metadata": {},
   "source": [
    "### Summarizing & Visualizing Categorical data"
   ]
  },
  {
   "cell_type": "markdown",
   "metadata": {},
   "source": [
    "#### Frequency Table\n",
    "\n",
    "- **Frequency**: The number of observations in each category.\n",
    "\n",
    "You can get Frequency fom DataFrame by using **value_counts()**."
   ]
  },
  {
   "cell_type": "code",
   "execution_count": 1,
   "metadata": {},
   "outputs": [],
   "source": [
    "import pandas as pd\n",
    "import numpy as np"
   ]
  },
  {
   "cell_type": "code",
   "execution_count": 9,
   "metadata": {},
   "outputs": [
    {
     "name": "stdout",
     "output_type": "stream",
     "text": [
      "   Attend Name\n",
      "0       1    A\n",
      "1       0    A\n",
      "2       1    B\n",
      "3       1    B\n",
      "4       1    C\n",
      "5       1    C\n",
      "6       0    D\n",
      "7       1    D\n",
      "--------------------\n",
      "B    2\n",
      "C    2\n",
      "A    1\n",
      "D    1\n",
      "Name: Name, dtype: int64\n"
     ]
    }
   ],
   "source": [
    "drink = pd.DataFrame([{\"Attend\" : 1, \"Name\" : \"A\"}, {\"Attend\" : 0, \"Name\" : \"A\"}, {\"Attend\" : 1, \"Name\" : \"B\"}, {\"Attend\" : 1, \"Name\" : \"B\"}, {\"Attend\" : 1, \"Name\" : \"C\"}, {\"Attend\" : 1, \"Name\" : \"C\"}, {\"Attend\" : 0, \"Name\" : \"D\"}, {\"Attend\" : 1, \"Name\" : \"D\"}])\n",
    "print(drink)\n",
    "print(\"--------------------\")\n",
    "\n",
    "drink_freq = drink[drink[\"Attend\"] == 1][\"Name\"].value_counts()\n",
    "print(drink_freq)"
   ]
  },
  {
   "cell_type": "markdown",
   "metadata": {},
   "source": [
    "- **Relative Frequency**: Frequency / Total number of data."
   ]
  },
  {
   "cell_type": "code",
   "execution_count": 10,
   "metadata": {},
   "outputs": [
    {
     "name": "stdout",
     "output_type": "stream",
     "text": [
      "B    0.333333\n",
      "C    0.333333\n",
      "A    0.166667\n",
      "D    0.166667\n",
      "Name: Name, dtype: float64\n"
     ]
    }
   ],
   "source": [
    "drink_rel_freq = drink[drink[\"Attend\"]==1][\"Name\"].value_counts(normalize = True)\n",
    "\n",
    "print(drink_rel_freq)"
   ]
  },
  {
   "cell_type": "markdown",
   "metadata": {},
   "source": [
    "- **Frequency Table**: A table listing the category, the frequency corresponding to the category, and the relative frequency."
   ]
  },
  {
   "cell_type": "code",
   "execution_count": 19,
   "metadata": {},
   "outputs": [
    {
     "name": "stdout",
     "output_type": "stream",
     "text": [
      "   freq  rel_freq\n",
      "B     2  0.333333\n",
      "C     2  0.333333\n",
      "A     1  0.166667\n",
      "D     1  0.166667\n"
     ]
    }
   ],
   "source": [
    "drink_freq_table = pd.concat([drink_freq, drink_rel_freq], axis = 1)\n",
    "drink_freq_table.columns = ['freq', 'rel_freq']\n",
    "print(drink_freq_table)"
   ]
  },
  {
   "cell_type": "markdown",
   "metadata": {},
   "source": [
    "#### Bar Chart"
   ]
  },
  {
   "cell_type": "markdown",
   "metadata": {},
   "source": [
    "You can visualize categorical data by **Bar Chart**.\n",
    "Use **plt.bar()** to draw bar chart."
   ]
  },
  {
   "cell_type": "code",
   "execution_count": 22,
   "metadata": {},
   "outputs": [],
   "source": [
    "import matplotlib.pyplot as plt"
   ]
  },
  {
   "cell_type": "code",
   "execution_count": 24,
   "metadata": {},
   "outputs": [
    {
     "data": {
      "image/png": "[encoded data removed]",
      "text/plain": [
       "<Figure size 432x288 with 1 Axes>"
      ]
     },
     "metadata": {
      "needs_background": "light"
     },
     "output_type": "display_data"
    }
   ],
   "source": [
    "labels = ['A', 'B', 'C', 'D', 'E']\n",
    "ratio = [4,3,2,2,1]\n",
    "    \n",
    "fig, ax = plt.subplots()\n",
    "\n",
    "plt.bar(labels, ratio)\n",
    "\n",
    "plt.show()"
   ]
  },
  {
   "cell_type": "markdown",
   "metadata": {},
   "source": [
    "### Summarizing Numerical Data"
   ]
  },
  {
   "cell_type": "markdown",
   "metadata": {},
   "source": [
    "*The basic concepts of statistics are all familiar for me, so I will skip the mathematical explanation.* "
   ]
  },
  {
   "cell_type": "markdown",
   "metadata": {},
   "source": [
    "#### np.mean()"
   ]
  },
  {
   "cell_type": "markdown",
   "metadata": {},
   "source": [
    "You can get **mean** of data by using **np.mean()**."
   ]
  },
  {
   "cell_type": "code",
   "execution_count": 28,
   "metadata": {},
   "outputs": [
    {
     "name": "stdout",
     "output_type": "stream",
     "text": [
      "144.125\n"
     ]
    }
   ],
   "source": [
    "coffee = np.array([202,177,121,148,89,121,137,158])\n",
    "cf_mean = np.mean(coffee)\n",
    "print(cf_mean)"
   ]
  },
  {
   "cell_type": "markdown",
   "metadata": {},
   "source": [
    "#### stdev() & variance()"
   ]
  },
  {
   "cell_type": "markdown",
   "metadata": {},
   "source": [
    "You can get **variance** and **standard deviation** by using **variance()** and **stdev()** from **statistics**."
   ]
  },
  {
   "cell_type": "code",
   "execution_count": 29,
   "metadata": {},
   "outputs": [],
   "source": [
    "import statistics "
   ]
  },
  {
   "cell_type": "code",
   "execution_count": 32,
   "metadata": {},
   "outputs": [
    {
     "name": "stdout",
     "output_type": "stream",
     "text": [
      "35.4400902933387\n",
      "1256\n"
     ]
    }
   ],
   "source": [
    "cf_std = statistics.stdev(coffee)\n",
    "cf_var = statistics.variance(coffee)\n",
    "print(cf_std)\n",
    "print(cf_var)"
   ]
  },
  {
   "cell_type": "markdown",
   "metadata": {},
   "source": [
    "#### plt.hist()"
   ]
  },
  {
   "cell_type": "markdown",
   "metadata": {},
   "source": [
    "You can visualize numerical data by drawing **Histogram** using **plt.hist()**."
   ]
  },
  {
   "cell_type": "code",
   "execution_count": 49,
   "metadata": {},
   "outputs": [
    {
     "data": {
      "image/png": "[encoded data removed]",
      "text/plain": [
       "<Figure size 432x288 with 1 Axes>"
      ]
     },
     "metadata": {
      "needs_background": "light"
     },
     "output_type": "display_data"
    }
   ],
   "source": [
    "import random\n",
    "\n",
    "fig, ax = plt.subplots()\n",
    "\n",
    "x = [random.gauss(0,5) for _ in range(400)]\n",
    "\n",
    "plt.hist(x, bins=np.linspace(-10, 10, 100), alpha=0.5)\n",
    "plt.hist(x, bins=np.linspace(-10, 10, 25), alpha=0.5)\n",
    "plt.show()"
   ]
  },
  {
   "cell_type": "code",
   "execution_count": null,
   "metadata": {},
   "outputs": [],
   "source": []
  }
 ],
 "metadata": {
  "kernelspec": {
   "display_name": "Python 3",
   "language": "python",
   "name": "python3"
  },
  "language_info": {
   "codemirror_mode": {
    "name": "ipython",
    "version": 3
   },
   "file_extension": ".py",
   "mimetype": "text/x-python",
   "name": "python",
   "nbconvert_exporter": "python",
   "pygments_lexer": "ipython3",
   "version": "3.7.4"
  }
 },
 "nbformat": 4,
 "nbformat_minor": 4
}
