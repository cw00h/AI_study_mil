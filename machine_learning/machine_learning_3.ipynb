{
 "cells": [
  {
   "cell_type": "markdown",
   "metadata": {},
   "source": [
    "# Machine Learning"
   ]
  },
  {
   "cell_type": "markdown",
   "metadata": {},
   "source": [
    "## 3️⃣ Data Preprocessing"
   ]
  },
  {
   "cell_type": "markdown",
   "metadata": {},
   "source": [
    "### Why do we need data preprocessing?"
   ]
  },
  {
   "cell_type": "markdown",
   "metadata": {},
   "source": [
    "- To convert data into machine learning's input type (generally matrix)\n",
    "- To purify data by processing missing values and outliers\n",
    "- To separate data into data for learning and data for evaluation"
   ]
  },
  {
   "cell_type": "markdown",
   "metadata": {},
   "source": [
    "### Preprocessing Categorical Data"
   ]
  },
  {
   "cell_type": "markdown",
   "metadata": {},
   "source": [
    "#### Preprocessing norminal data"
   ]
  },
  {
   "cell_type": "markdown",
   "metadata": {},
   "source": [
    "- **Numerical mapping method**\n",
    "\n",
    "Generally maps category to 0 or 1. (i.e. male : 0, female : 1)\n",
    "\n",
    "If there can be three or more value for a category, map the numbers by making the intervals of the numbers equal. (i.e. 0, 1, 2, ...)"
   ]
  },
  {
   "cell_type": "code",
   "execution_count": 1,
   "metadata": {},
   "outputs": [
    {
     "name": "stdout",
     "output_type": "stream",
     "text": [
      "Before preprocessing: \n",
      " 0      male\n",
      "1    female\n",
      "2    female\n",
      "3    female\n",
      "4      male\n",
      "Name: Sex, dtype: object\n",
      "After preprocessing: \n",
      " 0    0\n",
      "1    1\n",
      "2    1\n",
      "3    1\n",
      "4    0\n",
      "Name: Sex, dtype: int64\n"
     ]
    }
   ],
   "source": [
    "import pandas as pd\n",
    "import numpy as np\n",
    "\n",
    "titanic = pd.read_csv('./titanic.csv')\n",
    "print('Before preprocessing: \\n', titanic['Sex'].head())\n",
    "\n",
    "titanic=titanic.replace({'male':0, 'female':1})\n",
    "\n",
    "print('After preprocessing: \\n', titanic['Sex'].head())"
   ]
  },
  {
   "cell_type": "markdown",
   "metadata": {},
   "source": [
    "- **Dummy method**\n",
    "\n",
    "Create new dummy columns, and give value 1 only to the corresponding column, and give 0 to the rest."
   ]
  },
  {
   "cell_type": "code",
   "execution_count": 5,
   "metadata": {},
   "outputs": [
    {
     "name": "stdout",
     "output_type": "stream",
     "text": [
      "Before preprocessing: \n",
      " 0    S\n",
      "1    C\n",
      "2    S\n",
      "3    S\n",
      "4    S\n",
      "Name: Embarked, dtype: object\n",
      "After preprocessing: \n",
      "    Embarked_C  Embarked_Q  Embarked_S\n",
      "0           0           0           1\n",
      "1           1           0           0\n",
      "2           0           0           1\n",
      "3           0           0           1\n",
      "4           0           0           1\n"
     ]
    }
   ],
   "source": [
    "print('Before preprocessing: \\n', titanic['Embarked'].head())\n",
    "\n",
    "dummies = pd.get_dummies(titanic[['Embarked']])\n",
    "\n",
    "print('After preprocessing: \\n', dummies.head())"
   ]
  },
  {
   "cell_type": "markdown",
   "metadata": {},
   "source": [
    "#### Preprocessing Ordinal Data"
   ]
  },
  {
   "cell_type": "markdown",
   "metadata": {},
   "source": [
    "- Numerical mapping method\n",
    "\n",
    "Differences between figures can be customized. (i.e. very much -> 10, much -> 6, none -> 0)"
   ]
  },
  {
   "cell_type": "markdown",
   "metadata": {},
   "source": [
    "### Preprocessing Numerical Data"
   ]
  },
  {
   "cell_type": "markdown",
   "metadata": {},
   "source": [
    "#### Scaling"
   ]
  },
  {
   "cell_type": "markdown",
   "metadata": {},
   "source": [
    "If the values of a specific column are too large compared to other columns, the column will have a greater impact on machine learning than other columns.    \n",
    "You can use **Scaling** to eliminate this effect.\n",
    "\n",
    "- Normalization\n",
    "\n",
    "$X'$ is normalized value of variable $X$.\n",
    "\n",
    "$X' = \\frac{X - X_{min}}{X_{max} - X_{min}}$"
   ]
  },
  {
   "cell_type": "code",
   "execution_count": 13,
   "metadata": {},
   "outputs": [
    {
     "name": "stdout",
     "output_type": "stream",
     "text": [
      "Before preprocessing: \n",
      " 0     7.2500\n",
      "1    71.2833\n",
      "2     7.9250\n",
      "3    53.1000\n",
      "4     8.0500\n",
      "Name: Fare, dtype: float64\n",
      "After preprocessing: \n",
      " 0    0.014151\n",
      "1    0.139136\n",
      "2    0.015469\n",
      "3    0.103644\n",
      "4    0.015713\n",
      "Name: Fare, dtype: float64\n"
     ]
    }
   ],
   "source": [
    "def normal(data):\n",
    "    data = (data - data.min()) / (data.max() - data.min())\n",
    "    return data\n",
    "    \n",
    "titanic = pd.read_csv('./titanic.csv')\n",
    "print('Before preprocessing: \\n',titanic['Fare'].head())\n",
    "\n",
    "Fare = normal(titanic['Fare'])\n",
    "\n",
    "print('After preprocessing: \\n', Fare.head())"
   ]
  },
  {
   "cell_type": "markdown",
   "metadata": {},
   "source": [
    "- Standardization\n",
    "\n",
    "$X'$ is standardized value of variable $X$.   \n",
    "$X' = \\frac{X - {\\mu}}{{\\sigma}}$"
   ]
  },
  {
   "cell_type": "code",
   "execution_count": 14,
   "metadata": {},
   "outputs": [
    {
     "name": "stdout",
     "output_type": "stream",
     "text": [
      "Before preprocessing: \n",
      " 0     7.2500\n",
      "1    71.2833\n",
      "2     7.9250\n",
      "3    53.1000\n",
      "4     8.0500\n",
      "Name: Fare, dtype: float64\n",
      "After preprocessing: \n",
      " 0   -0.502163\n",
      "1    0.786404\n",
      "2   -0.488580\n",
      "3    0.420494\n",
      "4   -0.486064\n",
      "Name: Fare, dtype: float64\n"
     ]
    }
   ],
   "source": [
    "def standard(data):\n",
    "    data = (data - data.mean()) / data.std()\n",
    "    return data\n",
    "\n",
    "titanic = pd.read_csv('./titanic.csv')\n",
    "print('Before preprocessing: \\n',titanic['Fare'].head())\n",
    "\n",
    "Fare = standard(titanic['Fare'])\n",
    "\n",
    "print('After preprocessing: \\n', Fare.head())"
   ]
  },
  {
   "cell_type": "markdown",
   "metadata": {},
   "source": [
    "#### Categorization"
   ]
  },
  {
   "cell_type": "markdown",
   "metadata": {},
   "source": [
    "You can use **categorization** when the category is more important than the value of the variable.   \n",
    "For example, if **whether the test score is above average or below average** is more important than the test score itself, use categorization.\n",
    "\n"
   ]
  },
  {
   "cell_type": "code",
   "execution_count": 7,
   "metadata": {},
   "outputs": [
    {
     "name": "stdout",
     "output_type": "stream",
     "text": [
      "Before preprocessing: \n",
      " 0    22.0\n",
      "1    38.0\n",
      "2    26.0\n",
      "3    35.0\n",
      "4    35.0\n",
      "Name: Age, dtype: float64\n",
      "After preprocessing: \n",
      " 0    True\n",
      "1    True\n",
      "2    True\n",
      "3    True\n",
      "4    True\n",
      "Name: Age, dtype: object\n"
     ]
    }
   ],
   "source": [
    "def categorize_Age(data):\n",
    "    return data.apply(lambda row: row >= 20 if not np.isnan(row) else 'nan')\n",
    "    \n",
    "titanic = pd.read_csv('./titanic.csv')\n",
    "print('Before preprocessing: \\n',titanic['Age'].head())\n",
    "\n",
    "Age = categorize_Age(titanic['Age'])\n",
    "\n",
    "print('After preprocessing: \\n', Age.head())\n",
    "# categorized into whether each person is an adult."
   ]
  },
  {
   "cell_type": "markdown",
   "metadata": {},
   "source": [
    "### Processing Missing Data"
   ]
  },
  {
   "cell_type": "markdown",
   "metadata": {},
   "source": [
    "#### Deleting column that has many missing data"
   ]
  },
  {
   "cell_type": "code",
   "execution_count": 3,
   "metadata": {},
   "outputs": [
    {
     "name": "stdout",
     "output_type": "stream",
     "text": [
      "<class 'pandas.core.frame.DataFrame'>\n",
      "RangeIndex: 891 entries, 0 to 890\n",
      "Data columns (total 12 columns):\n",
      " #   Column       Non-Null Count  Dtype  \n",
      "---  ------       --------------  -----  \n",
      " 0   PassengerId  891 non-null    int64  \n",
      " 1   Survived     891 non-null    int64  \n",
      " 2   Pclass       891 non-null    int64  \n",
      " 3   Name         891 non-null    object \n",
      " 4   Sex          891 non-null    object \n",
      " 5   Age          714 non-null    float64\n",
      " 6   SibSp        891 non-null    int64  \n",
      " 7   Parch        891 non-null    int64  \n",
      " 8   Ticket       891 non-null    object \n",
      " 9   Fare         891 non-null    float64\n",
      " 10  Cabin        204 non-null    object \n",
      " 11  Embarked     889 non-null    object \n",
      "dtypes: float64(2), int64(5), object(5)\n",
      "memory usage: 83.7+ KB\n",
      "None \n",
      "\n",
      "<class 'pandas.core.frame.DataFrame'>\n",
      "RangeIndex: 891 entries, 0 to 890\n",
      "Data columns (total 11 columns):\n",
      " #   Column       Non-Null Count  Dtype  \n",
      "---  ------       --------------  -----  \n",
      " 0   PassengerId  891 non-null    int64  \n",
      " 1   Survived     891 non-null    int64  \n",
      " 2   Pclass       891 non-null    int64  \n",
      " 3   Name         891 non-null    object \n",
      " 4   Sex          891 non-null    object \n",
      " 5   Age          714 non-null    float64\n",
      " 6   SibSp        891 non-null    int64  \n",
      " 7   Parch        891 non-null    int64  \n",
      " 8   Ticket       891 non-null    object \n",
      " 9   Fare         891 non-null    float64\n",
      " 10  Embarked     889 non-null    object \n",
      "dtypes: float64(2), int64(5), object(4)\n",
      "memory usage: 76.7+ KB\n",
      "None \n",
      "\n"
     ]
    }
   ],
   "source": [
    "titanic = pd.read_csv('./titanic.csv')\n",
    "\n",
    "print(titanic.info(), '\\n')\n",
    "#You can see that 'Cabin' column has lots of missing data.\n",
    "\n",
    "#Deleting \"Cabin\" column\n",
    "titanic_1 = titanic.drop(columns=[\"Cabin\"])\n",
    "\n",
    "print(titanic_1.info(), '\\n')"
   ]
  },
  {
   "cell_type": "markdown",
   "metadata": {},
   "source": [
    "#### Deleting samples that have missing data"
   ]
  },
  {
   "cell_type": "code",
   "execution_count": 4,
   "metadata": {},
   "outputs": [
    {
     "name": "stdout",
     "output_type": "stream",
     "text": [
      "<class 'pandas.core.frame.DataFrame'>\n",
      "Int64Index: 712 entries, 0 to 890\n",
      "Data columns (total 11 columns):\n",
      " #   Column       Non-Null Count  Dtype  \n",
      "---  ------       --------------  -----  \n",
      " 0   PassengerId  712 non-null    int64  \n",
      " 1   Survived     712 non-null    int64  \n",
      " 2   Pclass       712 non-null    int64  \n",
      " 3   Name         712 non-null    object \n",
      " 4   Sex          712 non-null    object \n",
      " 5   Age          712 non-null    float64\n",
      " 6   SibSp        712 non-null    int64  \n",
      " 7   Parch        712 non-null    int64  \n",
      " 8   Ticket       712 non-null    object \n",
      " 9   Fare         712 non-null    float64\n",
      " 10  Embarked     712 non-null    object \n",
      "dtypes: float64(2), int64(5), object(4)\n",
      "memory usage: 66.8+ KB\n",
      "None \n",
      "\n"
     ]
    }
   ],
   "source": [
    "#Delete samples that has missing data using \"dropna\"\n",
    "\n",
    "titanic_2 = titanic_1.dropna()\n",
    "\n",
    "print(titanic_2.info(), '\\n')"
   ]
  },
  {
   "cell_type": "markdown",
   "metadata": {},
   "source": [
    "### Processing Outlier"
   ]
  },
  {
   "cell_type": "markdown",
   "metadata": {},
   "source": [
    "#### Deleting outlier using boolean indexing"
   ]
  },
  {
   "cell_type": "markdown",
   "metadata": {},
   "source": [
    "In titanic.csv, there are some samples whose 'age' value is expressed in decimal places. Let's delete those samples using **boolean indexing**."
   ]
  },
  {
   "cell_type": "code",
   "execution_count": 9,
   "metadata": {},
   "outputs": [
    {
     "name": "stdout",
     "output_type": "stream",
     "text": [
      "57     28.50\n",
      "78      0.83\n",
      "111    14.50\n",
      "116    70.50\n",
      "122    32.50\n",
      "123    32.50\n",
      "148    36.50\n",
      "152    55.50\n",
      "153    40.50\n",
      "203    45.50\n",
      "227    20.50\n",
      "296    23.50\n",
      "305     0.92\n",
      "331    45.50\n",
      "469     0.75\n",
      "525    40.50\n",
      "644     0.75\n",
      "676    24.50\n",
      "735    28.50\n",
      "755     0.67\n",
      "767    30.50\n",
      "803     0.42\n",
      "814    30.50\n",
      "831     0.83\n",
      "843    34.50\n",
      "Name: Age, dtype: float64\n",
      "Number of samples before deleting outlier: 712\n",
      "Number of outliers: 25\n",
      "Number of samples after deleting outlier: 687\n"
     ]
    }
   ],
   "source": [
    "outlier = titanic_2[titanic_2['Age']-np.floor(titanic_2['Age']) > 0 ]['Age']\n",
    "print(outlier)\n",
    "\n",
    "print('Number of samples before deleting outlier: %d' %(len(titanic_2)))\n",
    "print('Number of outliers: %d' %(len(outlier)))\n",
    "\n",
    "#Deleting outlier using boolean indexing\n",
    "\n",
    "titanic_3 = titanic_2[titanic_2['Age'] - np.floor(titanic_2['Age']) == 0]\n",
    "print('Number of samples after deleting outlier: %d' %(len(titanic_3)))"
   ]
  },
  {
   "cell_type": "markdown",
   "metadata": {},
   "source": [
    "### Splitting Data"
   ]
  },
  {
   "cell_type": "markdown",
   "metadata": {},
   "source": [
    "#### Feature data & Label Data"
   ]
  },
  {
   "cell_type": "markdown",
   "metadata": {},
   "source": [
    "- Feature data : Input value for predicting label. (i.e. Study time)\n",
    "- Label data : Data to be predicted. (i.e. Test score)\n",
    "\n",
    "Use **train_test_split** from sklearn library to split data into data for learning and evalution.\n",
    "\n",
    "```python\n",
    "X_train, X_test, y_train, y_test = train_test_split(feature data, \n",
    "label data, \n",
    "test_size= 0~1, \n",
    "random_state=random seed value)\n",
    "```"
   ]
  },
  {
   "cell_type": "code",
   "execution_count": 11,
   "metadata": {},
   "outputs": [
    {
     "name": "stdout",
     "output_type": "stream",
     "text": [
      "Number of feature data: 480\n",
      "Number of label data: 207\n"
     ]
    }
   ],
   "source": [
    "from sklearn.model_selection import train_test_split\n",
    "\n",
    "Feature = titanic_3.drop(columns = ['Survived'])\n",
    "Label = titanic_3['Survived']\n",
    "\n",
    "# Splitting into data for learning & evaluation\n",
    "X_train, X_test, y_train, y_test = train_test_split(Feature, Label, test_size = 0.3, random_state = 42)\n",
    "\n",
    "print('Number of feature data: %d' %(len(X_train)))\n",
    "print('Number of label data: %d' %(len(X_test)))"
   ]
  }
 ],
 "metadata": {
  "kernelspec": {
   "display_name": "Python 3",
   "language": "python",
   "name": "python3"
  },
  "language_info": {
   "codemirror_mode": {
    "name": "ipython",
    "version": 3
   },
   "file_extension": ".py",
   "mimetype": "text/x-python",
   "name": "python",
   "nbconvert_exporter": "python",
   "pygments_lexer": "ipython3",
   "version": "3.7.4"
  }
 },
 "nbformat": 4,
 "nbformat_minor": 4
}
