{
 "cells": [
  {
   "cell_type": "markdown",
   "metadata": {},
   "source": [
    "# Natural Language Processing\n",
    "## 1️⃣ Text Preprocessing"
   ]
  },
  {
   "cell_type": "markdown",
   "metadata": {},
   "source": [
    "### Tokenization\n",
    "\n",
    "**Tokenization** refers to dividing the input sentence into each words.   \n",
    "(i.e. 'Hello, my name is cw00h!' -> ['Hello', 'my', 'name', 'is', 'cw00h!'])\n",
    "\n",
    "To make tokens of the same meaning have the same form, **lowercase all characters** and **remove special symbols**.\n",
    "\n",
    "**Stopword**, which has only grammatical functions and is not very important in meaning, is also removed."
   ]
  },
  {
   "cell_type": "code",
   "execution_count": 1,
   "metadata": {},
   "outputs": [
    {
     "name": "stdout",
     "output_type": "stream",
     "text": [
      "good morning\n"
     ]
    }
   ],
   "source": [
    "# Removing special symbols in python\n",
    "import re\n",
    "\n",
    "word = \"123good123 $!mor%ning@@#!\"\n",
    "regex = re.compile('[^a-z A-Z]')\n",
    "\n",
    "print(regex.sub('', word))"
   ]
  },
  {
   "cell_type": "code",
   "execution_count": 9,
   "metadata": {},
   "outputs": [
    {
     "name": "stdout",
     "output_type": "stream",
     "text": [
      "['green', 'egg', 'ham']\n"
     ]
    }
   ],
   "source": [
    "# Removing Stopword\n",
    "import nltk\n",
    "# nltk.download('stopwords')\n",
    "from nltk.corpus import stopwords\n",
    "\n",
    "sentence = [\"the\", \"green\", \"egg\", \"and\", \"ham\", \"a\", \"an\"]\n",
    "stopwords = stopwords.words('english')\n",
    "new_sentence = [word for word in sentence if word not in stopwords]\n",
    "\n",
    "# You can add new stopwords to 'stopwords' as below.  \n",
    "# stopwords += ['none', 'abc']\n",
    "\n",
    "print(new_sentence)"
   ]
  },
  {
   "cell_type": "markdown",
   "metadata": {},
   "source": [
    "### Stemming\n",
    "\n",
    "In the Stemming step, **words of the same meaning in various forms** for grammatical reasons are converted into the same form.   \n",
    "(i.e. study, studied, studying, studies -> studi)\n"
   ]
  },
  {
   "cell_type": "code",
   "execution_count": 11,
   "metadata": {},
   "outputs": [
    {
     "name": "stdout",
     "output_type": "stream",
     "text": [
      "studi\n",
      "studi\n",
      "studi\n",
      "dog\n",
      "dog\n"
     ]
    }
   ],
   "source": [
    "import nltk\n",
    "from nltk.stem import PorterStemmer\n",
    "\n",
    "words = [\"studies\", \"studied\", \"studying\", \"dogs\", \"dog\"]\n",
    "\n",
    "stemmer = PorterStemmer()\n",
    "\n",
    "for word in words:\n",
    "    print(stemmer.stem(word))"
   ]
  },
  {
   "cell_type": "markdown",
   "metadata": {},
   "source": [
    "### Example"
   ]
  },
  {
   "cell_type": "code",
   "execution_count": 12,
   "metadata": {},
   "outputs": [
    {
     "name": "stdout",
     "output_type": "stream",
     "text": [
      "6708\n"
     ]
    }
   ],
   "source": [
    "import re\n",
    "\n",
    "word_counter = dict()\n",
    "regex = re.compile('[^a-zA-Z]')\n",
    "\n",
    "# Make a dictionary of words in lower case, special symbols removed.\n",
    "with open('1_test_preprocessing_test.txt', 'r') as f:\n",
    "    for line in f:\n",
    "        for word in line.rstrip().split():\n",
    "            word = word.lower()\n",
    "            word = regex.sub('', word)\n",
    "            if word in word_counter:\n",
    "                word_counter[word] += 1\n",
    "            else:\n",
    "                word_counter[word] = 1\n",
    "\n",
    "# Check the frequency of word \"the\"\n",
    "count = word_counter[\"the\"]\n",
    "\n",
    "print(count)"
   ]
  },
  {
   "cell_type": "code",
   "execution_count": 18,
   "metadata": {},
   "outputs": [
    {
     "name": "stdout",
     "output_type": "stream",
     "text": [
      "['i', 'me', 'my', 'myself', 'we', 'our', 'ours', 'ourselves', 'you', \"you're\", \"you've\", \"you'll\", \"you'd\", 'your', 'yours', 'yourself', 'yourselves', 'he', 'him', 'his', 'himself', 'she', \"she's\", 'her', 'hers', 'herself', 'it', \"it's\", 'its', 'itself', 'they', 'them', 'their', 'theirs', 'themselves', 'what', 'which', 'who', 'whom', 'this', 'that', \"that'll\", 'these', 'those', 'am', 'is', 'are', 'was', 'were', 'be', 'been', 'being', 'have', 'has', 'had', 'having', 'do', 'does', 'did', 'doing', 'a', 'an', 'the', 'and', 'but', 'if', 'or', 'because', 'as', 'until', 'while', 'of', 'at', 'by', 'for', 'with', 'about', 'against', 'between', 'into', 'through', 'during', 'before', 'after', 'above', 'below', 'to', 'from', 'up', 'down', 'in', 'out', 'on', 'off', 'over', 'under', 'again', 'further', 'then', 'once', 'here', 'there', 'when', 'where', 'why', 'how', 'all', 'any', 'both', 'each', 'few', 'more', 'most', 'other', 'some', 'such', 'no', 'nor', 'not', 'only', 'own', 'same', 'so', 'than', 'too', 'very', 's', 't', 'can', 'will', 'just', 'don', \"don't\", 'should', \"should've\", 'now', 'd', 'll', 'm', 'o', 're', 've', 'y', 'ain', 'aren', \"aren't\", 'couldn', \"couldn't\", 'didn', \"didn't\", 'doesn', \"doesn't\", 'hadn', \"hadn't\", 'hasn', \"hasn't\", 'haven', \"haven't\", 'isn', \"isn't\", 'ma', 'mightn', \"mightn't\", 'mustn', \"mustn't\", 'needn', \"needn't\", 'shan', \"shan't\", 'shouldn', \"shouldn't\", 'wasn', \"wasn't\", 'weren', \"weren't\", 'won', \"won't\", 'wouldn', \"wouldn't\"]\n",
      "---------------------------------\n",
      "['i', 'me', 'my', 'myself', 'we', 'our', 'ours', 'ourselves', 'you', \"you're\", \"you've\", \"you'll\", \"you'd\", 'your', 'yours', 'yourself', 'yourselves', 'he', 'him', 'his', 'himself', 'she', \"she's\", 'her', 'hers', 'herself', 'it', \"it's\", 'its', 'itself', 'they', 'them', 'their', 'theirs', 'themselves', 'what', 'which', 'who', 'whom', 'this', 'that', \"that'll\", 'these', 'those', 'am', 'is', 'are', 'was', 'were', 'be', 'been', 'being', 'have', 'has', 'had', 'having', 'do', 'does', 'did', 'doing', 'a', 'an', 'the', 'and', 'but', 'if', 'or', 'because', 'as', 'until', 'while', 'of', 'at', 'by', 'for', 'with', 'about', 'against', 'between', 'into', 'through', 'during', 'before', 'after', 'above', 'below', 'to', 'from', 'up', 'down', 'in', 'out', 'on', 'off', 'over', 'under', 'again', 'further', 'then', 'once', 'here', 'there', 'when', 'where', 'why', 'how', 'all', 'any', 'both', 'each', 'few', 'more', 'most', 'other', 'some', 'such', 'no', 'nor', 'not', 'only', 'own', 'same', 'so', 'than', 'too', 'very', 's', 't', 'can', 'will', 'just', 'don', \"don't\", 'should', \"should've\", 'now', 'd', 'll', 'm', 'o', 're', 've', 'y', 'ain', 'aren', \"aren't\", 'couldn', \"couldn't\", 'didn', \"didn't\", 'doesn', \"doesn't\", 'hadn', \"hadn't\", 'hasn', \"hasn't\", 'haven', \"haven't\", 'isn', \"isn't\", 'ma', 'mightn', \"mightn't\", 'mustn', \"mustn't\", 'needn', \"needn't\", 'shan', \"shan't\", 'shouldn', \"shouldn't\", 'wasn', \"wasn't\", 'weren', \"weren't\", 'won', \"won't\", 'wouldn', \"wouldn't\", 'noone', 'sooo', 'thereafter', 'beyond', 'amoungst', 'among']\n",
      "---------------------------------\n",
      "[['looked', 'forward', 'seeing', 'since', 'first', 'saw', 'work'], ['superb', 'movie', 'suitable', 'youngest'], ['first', 'saw', 'movie', 'I', 'little', 'kid', 'fell', 'love'], ['tired', 'show', 'must', 'go']]\n",
      "---------------------------------\n",
      "[['look', 'forward', 'see', 'sinc', 'first', 'saw', 'work'], ['superb', 'movi', 'suitabl', 'youngest'], ['first', 'saw', 'movi', 'i', 'littl', 'kid', 'fell', 'love'], ['tire', 'show', 'must', 'go']]\n"
     ]
    }
   ],
   "source": [
    "from nltk.corpus import stopwords\n",
    "from nltk.tokenize import word_tokenize\n",
    "from nltk.stem import PorterStemmer\n",
    "\n",
    "test_sentences = [\n",
    "    \"i have looked forward to seeing this since i first saw it amoungst her work\",\n",
    "    \"this is a superb movie suitable for all but the very youngest\",\n",
    "    \"i first saw this movie when I was a little kid and fell in love with it at once\",\n",
    "    \"i am sooo tired but the show must go on\",\n",
    "]\n",
    "\n",
    "# Getting stopwords in English.\n",
    "stopwords = stopwords.words('english')\n",
    "\n",
    "print(stopwords)\n",
    "print(\"---------------------------------\")\n",
    "\n",
    "# Updating stopwords by adding new stopwords.\n",
    "new_keywords = ['noone', 'sooo', 'thereafter', 'beyond', 'amoungst', 'among']\n",
    "updated_stopwords = stopwords + new_keywords\n",
    "\n",
    "print(updated_stopwords)\n",
    "print(\"---------------------------------\")\n",
    "\n",
    "# Preprocessing test_sentences using updated_stopwords\n",
    "tokenized_word = []\n",
    "\n",
    "for sentence in test_sentences:\n",
    "    tokens = word_tokenize(sentence)\n",
    "    new_sentence = []\n",
    "    for token in tokens:\n",
    "        if token not in updated_stopwords : \n",
    "            new_sentence.append(token)\n",
    "    tokenized_word.append(new_sentence)\n",
    "\n",
    "print(tokenized_word)\n",
    "print(\"---------------------------------\")\n",
    "\n",
    "# Stemming\n",
    "stemmed_sent = []\n",
    "stemmer = PorterStemmer()\n",
    "\n",
    "# Printing the result of stemming\n",
    "for words in tokenized_word :\n",
    "    stemmed_words = []\n",
    "    for word in words :\n",
    "        stemmed_words.append(stemmer.stem(word))\n",
    "    stemmed_sent.append(stemmed_words)\n",
    "print(stemmed_sent)"
   ]
  }
 ],
 "metadata": {
  "kernelspec": {
   "display_name": "Python 3",
   "language": "python",
   "name": "python3"
  },
  "language_info": {
   "codemirror_mode": {
    "name": "ipython",
    "version": 3
   },
   "file_extension": ".py",
   "mimetype": "text/x-python",
   "name": "python",
   "nbconvert_exporter": "python",
   "pygments_lexer": "ipython3",
   "version": "3.7.4"
  }
 },
 "nbformat": 4,
 "nbformat_minor": 4
}
