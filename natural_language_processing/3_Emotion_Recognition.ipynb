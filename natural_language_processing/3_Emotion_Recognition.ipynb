{
 "cells": [
  {
   "cell_type": "markdown",
   "metadata": {},
   "source": [
    "# Natural Language Processing\n",
    "## 3️⃣ Emotion Recognition"
   ]
  },
  {
   "cell_type": "markdown",
   "metadata": {},
   "source": [
    "### Navie Bayes Classification\n",
    "\n",
    "$$P(Emotion|Text) = \\frac{P(Text|Emotion) * P(Emotion)}{P(Text)}$$"
   ]
  },
  {
   "cell_type": "markdown",
   "metadata": {},
   "source": [
    "We can use **Bayes Theorem** to predict the probability of occurrence of each emotions in text.\n",
    "\n",
    "The **likelihood of Text** can be calculated by frequency of words.   \n",
    "$$P(Word | Emotion) = \\frac{\\text{(Frequency of Word in the emotion)}}{\\text{(Frequency of every word in the emotion)}}$$\n",
    "\n",
    "For example: \n",
    "$$P(fun | Happy) = \\frac{\\text{(Frequency of \"fun\" in sentences that expesses happiness)}}{\\text{(Frequency of every word in sentences that expresses happiness)}}$$\n",
    "\n",
    "\n",
    "The **likelihood of Emotion** is calculated as the ratio of sentences expressing the emotion within the entire data.\n",
    "$$P(Emotion)=\\frac{\\text{(Number of sentences that express the emotion)}}{\\text{(Number of sentences in entire data)}}$$\n",
    "\n",
    "After calculating $P(Emotion|Text)$ for every emotions, the model predicts the emotion with the greatest value among each probability as the emotion in the corresponding sentence."
   ]
  },
  {
   "cell_type": "code",
   "execution_count": null,
   "metadata": {},
   "outputs": [],
   "source": []
  }
 ],
 "metadata": {
  "kernelspec": {
   "display_name": "Python 3",
   "language": "python",
   "name": "python3"
  },
  "language_info": {
   "codemirror_mode": {
    "name": "ipython",
    "version": 3
   },
   "file_extension": ".py",
   "mimetype": "text/x-python",
   "name": "python",
   "nbconvert_exporter": "python",
   "pygments_lexer": "ipython3",
   "version": "3.7.4"
  }
 },
 "nbformat": 4,
 "nbformat_minor": 4
}
