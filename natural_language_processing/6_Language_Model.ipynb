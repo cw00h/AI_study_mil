{
 "cells": [
  {
   "cell_type": "markdown",
   "metadata": {},
   "source": [
    "# Natural Language Processing\n",
    "## 6️⃣ Language Model\n",
    "\n"
   ]
  },
  {
   "cell_type": "markdown",
   "metadata": {},
   "source": [
    "### Language Model\n",
    "\n",
    "**Language model** is a model that calculates the probability that a given sentence occurs in the text data.\n",
    "\n",
    "The probability that a given sentence occurs in the text data can be calculated by products of the conditional probabilty that each words occurs.\n",
    "\n",
    "$$P(sentence1) = P(word_1) * P(word_2 | word_1) * P(word_3 | word_1, word_2) * P(word_4 | word_1, word_2, word_3) * P(word_5 | word_1, word_2, word_3, word_4) * ...$$"
   ]
  },
  {
   "cell_type": "markdown",
   "metadata": {},
   "source": [
    "### N-gram Language Model\n",
    "\n",
    "Unlike Statistical Language Model, N-gram language model predicts next word **only based on *N-1* words**.\n",
    "\n",
    "$$P(sentence1) \\approx P(word_3 | word_1, word_2) * P(word_4 | word_2, word_3) * P(word_5 | word_3, word_4) * ...)$$\n",
    "\n",
    "Each N-gram-based conditional probability is calculated using **each n-gram's frequency in the data**.\n",
    "\n",
    "$$P(word_3 | word_1, word_2) = \\frac{\\text{frequency of }word_1, word_2, word_3\\text{ in the entire data}}{\\text{frequency of }word_1, word_2\\text{ in the entire data}}$$"
   ]
  },
  {
   "cell_type": "code",
   "execution_count": null,
   "metadata": {},
   "outputs": [],
   "source": []
  }
 ],
 "metadata": {
  "kernelspec": {
   "display_name": "Python 3",
   "language": "python",
   "name": "python3"
  },
  "language_info": {
   "codemirror_mode": {
    "name": "ipython",
    "version": 3
   },
   "file_extension": ".py",
   "mimetype": "text/x-python",
   "name": "python",
   "nbconvert_exporter": "python",
   "pygments_lexer": "ipython3",
   "version": "3.7.4"
  }
 },
 "nbformat": 4,
 "nbformat_minor": 4
}
